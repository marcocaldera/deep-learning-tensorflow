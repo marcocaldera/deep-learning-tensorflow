{
 "cells": [
  {
   "cell_type": "markdown",
   "metadata": {},
   "source": [
    "### Bitcoin stock prediction"
   ]
  },
  {
   "cell_type": "code",
   "execution_count": 1,
   "metadata": {},
   "outputs": [],
   "source": [
    "import numpy as np\n",
    "import matplotlib.pyplot as plt\n",
    "import pandas as pd\n",
    "from sklearn.preprocessing import MinMaxScaler"
   ]
  },
  {
   "cell_type": "code",
   "execution_count": 72,
   "metadata": {},
   "outputs": [
    {
     "data": {
      "text/html": [
       "<div>\n",
       "<style scoped>\n",
       "    .dataframe tbody tr th:only-of-type {\n",
       "        vertical-align: middle;\n",
       "    }\n",
       "\n",
       "    .dataframe tbody tr th {\n",
       "        vertical-align: top;\n",
       "    }\n",
       "\n",
       "    .dataframe thead th {\n",
       "        text-align: right;\n",
       "    }\n",
       "</style>\n",
       "<table border=\"1\" class=\"dataframe\">\n",
       "  <thead>\n",
       "    <tr style=\"text-align: right;\">\n",
       "      <th></th>\n",
       "      <th>Date</th>\n",
       "      <th>Open</th>\n",
       "      <th>High</th>\n",
       "      <th>Low</th>\n",
       "      <th>Close</th>\n",
       "      <th>Adj Close</th>\n",
       "      <th>Volume</th>\n",
       "    </tr>\n",
       "  </thead>\n",
       "  <tbody>\n",
       "    <tr>\n",
       "      <th>0</th>\n",
       "      <td>2014-09-17</td>\n",
       "      <td>465.864014</td>\n",
       "      <td>468.174011</td>\n",
       "      <td>452.421997</td>\n",
       "      <td>457.334015</td>\n",
       "      <td>457.334015</td>\n",
       "      <td>21056800</td>\n",
       "    </tr>\n",
       "    <tr>\n",
       "      <th>1</th>\n",
       "      <td>2014-09-18</td>\n",
       "      <td>456.859985</td>\n",
       "      <td>456.859985</td>\n",
       "      <td>413.104004</td>\n",
       "      <td>424.440002</td>\n",
       "      <td>424.440002</td>\n",
       "      <td>34483200</td>\n",
       "    </tr>\n",
       "    <tr>\n",
       "      <th>2</th>\n",
       "      <td>2014-09-19</td>\n",
       "      <td>424.102997</td>\n",
       "      <td>427.834991</td>\n",
       "      <td>384.532013</td>\n",
       "      <td>394.795990</td>\n",
       "      <td>394.795990</td>\n",
       "      <td>37919700</td>\n",
       "    </tr>\n",
       "    <tr>\n",
       "      <th>3</th>\n",
       "      <td>2014-09-20</td>\n",
       "      <td>394.673004</td>\n",
       "      <td>423.295990</td>\n",
       "      <td>389.882996</td>\n",
       "      <td>408.903992</td>\n",
       "      <td>408.903992</td>\n",
       "      <td>36863600</td>\n",
       "    </tr>\n",
       "    <tr>\n",
       "      <th>4</th>\n",
       "      <td>2014-09-21</td>\n",
       "      <td>408.084991</td>\n",
       "      <td>412.425995</td>\n",
       "      <td>393.181000</td>\n",
       "      <td>398.821014</td>\n",
       "      <td>398.821014</td>\n",
       "      <td>26580100</td>\n",
       "    </tr>\n",
       "  </tbody>\n",
       "</table>\n",
       "</div>"
      ],
      "text/plain": [
       "         Date        Open        High         Low       Close   Adj Close  \\\n",
       "0  2014-09-17  465.864014  468.174011  452.421997  457.334015  457.334015   \n",
       "1  2014-09-18  456.859985  456.859985  413.104004  424.440002  424.440002   \n",
       "2  2014-09-19  424.102997  427.834991  384.532013  394.795990  394.795990   \n",
       "3  2014-09-20  394.673004  423.295990  389.882996  408.903992  408.903992   \n",
       "4  2014-09-21  408.084991  412.425995  393.181000  398.821014  398.821014   \n",
       "\n",
       "     Volume  \n",
       "0  21056800  \n",
       "1  34483200  \n",
       "2  37919700  \n",
       "3  36863600  \n",
       "4  26580100  "
      ]
     },
     "execution_count": 72,
     "metadata": {},
     "output_type": "execute_result"
    }
   ],
   "source": [
    "data = pd.read_csv('BTC-USD.csv', date_parser = True)\n",
    "data.head()"
   ]
  },
  {
   "cell_type": "code",
   "execution_count": 3,
   "metadata": {},
   "outputs": [],
   "source": [
    "data_training = data[data['Date'] < '2019-09-01']\n",
    "#data_training"
   ]
  },
  {
   "cell_type": "code",
   "execution_count": 68,
   "metadata": {},
   "outputs": [
    {
     "data": {
      "text/html": [
       "<div>\n",
       "<style scoped>\n",
       "    .dataframe tbody tr th:only-of-type {\n",
       "        vertical-align: middle;\n",
       "    }\n",
       "\n",
       "    .dataframe tbody tr th {\n",
       "        vertical-align: top;\n",
       "    }\n",
       "\n",
       "    .dataframe thead th {\n",
       "        text-align: right;\n",
       "    }\n",
       "</style>\n",
       "<table border=\"1\" class=\"dataframe\">\n",
       "  <thead>\n",
       "    <tr style=\"text-align: right;\">\n",
       "      <th></th>\n",
       "      <th>Date</th>\n",
       "      <th>Open</th>\n",
       "      <th>High</th>\n",
       "      <th>Low</th>\n",
       "      <th>Close</th>\n",
       "      <th>Adj Close</th>\n",
       "      <th>Volume</th>\n",
       "    </tr>\n",
       "  </thead>\n",
       "  <tbody>\n",
       "    <tr>\n",
       "      <th>1810</th>\n",
       "      <td>2019-09-01</td>\n",
       "      <td>9630.592773</td>\n",
       "      <td>9796.755859</td>\n",
       "      <td>9582.944336</td>\n",
       "      <td>9757.970703</td>\n",
       "      <td>9757.970703</td>\n",
       "      <td>11445355859</td>\n",
       "    </tr>\n",
       "    <tr>\n",
       "      <th>1811</th>\n",
       "      <td>2019-09-02</td>\n",
       "      <td>9757.473633</td>\n",
       "      <td>10396.591797</td>\n",
       "      <td>9730.650391</td>\n",
       "      <td>10346.760742</td>\n",
       "      <td>10346.760742</td>\n",
       "      <td>17248102293</td>\n",
       "    </tr>\n",
       "    <tr>\n",
       "      <th>1812</th>\n",
       "      <td>2019-09-03</td>\n",
       "      <td>10345.725586</td>\n",
       "      <td>10736.104492</td>\n",
       "      <td>10308.547852</td>\n",
       "      <td>10623.540039</td>\n",
       "      <td>10623.540039</td>\n",
       "      <td>19384917988</td>\n",
       "    </tr>\n",
       "    <tr>\n",
       "      <th>1813</th>\n",
       "      <td>2019-09-04</td>\n",
       "      <td>10621.180664</td>\n",
       "      <td>10762.644531</td>\n",
       "      <td>10434.709961</td>\n",
       "      <td>10594.493164</td>\n",
       "      <td>10594.493164</td>\n",
       "      <td>16742664768</td>\n",
       "    </tr>\n",
       "    <tr>\n",
       "      <th>1814</th>\n",
       "      <td>2019-09-05</td>\n",
       "      <td>10588.183594</td>\n",
       "      <td>10627.269531</td>\n",
       "      <td>10516.417969</td>\n",
       "      <td>10575.533203</td>\n",
       "      <td>10575.533203</td>\n",
       "      <td>14551239507</td>\n",
       "    </tr>\n",
       "    <tr>\n",
       "      <th>...</th>\n",
       "      <td>...</td>\n",
       "      <td>...</td>\n",
       "      <td>...</td>\n",
       "      <td>...</td>\n",
       "      <td>...</td>\n",
       "      <td>...</td>\n",
       "      <td>...</td>\n",
       "    </tr>\n",
       "    <tr>\n",
       "      <th>1988</th>\n",
       "      <td>2020-02-26</td>\n",
       "      <td>9338.290039</td>\n",
       "      <td>9354.778320</td>\n",
       "      <td>8704.426758</td>\n",
       "      <td>8820.522461</td>\n",
       "      <td>8820.522461</td>\n",
       "      <td>50420050761</td>\n",
       "    </tr>\n",
       "    <tr>\n",
       "      <th>1989</th>\n",
       "      <td>2020-02-27</td>\n",
       "      <td>8825.093750</td>\n",
       "      <td>8932.892578</td>\n",
       "      <td>8577.199219</td>\n",
       "      <td>8784.494141</td>\n",
       "      <td>8784.494141</td>\n",
       "      <td>45470195695</td>\n",
       "    </tr>\n",
       "    <tr>\n",
       "      <th>1990</th>\n",
       "      <td>2020-02-28</td>\n",
       "      <td>8788.728516</td>\n",
       "      <td>8890.456055</td>\n",
       "      <td>8492.932617</td>\n",
       "      <td>8672.455078</td>\n",
       "      <td>8672.455078</td>\n",
       "      <td>44605450442</td>\n",
       "    </tr>\n",
       "    <tr>\n",
       "      <th>1991</th>\n",
       "      <td>2020-02-29</td>\n",
       "      <td>8671.212891</td>\n",
       "      <td>8775.631836</td>\n",
       "      <td>8599.508789</td>\n",
       "      <td>8599.508789</td>\n",
       "      <td>8599.508789</td>\n",
       "      <td>35792392544</td>\n",
       "    </tr>\n",
       "    <tr>\n",
       "      <th>1992</th>\n",
       "      <td>2020-03-03</td>\n",
       "      <td>8867.688477</td>\n",
       "      <td>8897.424805</td>\n",
       "      <td>8776.678711</td>\n",
       "      <td>8847.444336</td>\n",
       "      <td>8847.444336</td>\n",
       "      <td>42093461504</td>\n",
       "    </tr>\n",
       "  </tbody>\n",
       "</table>\n",
       "<p>183 rows × 7 columns</p>\n",
       "</div>"
      ],
      "text/plain": [
       "            Date          Open          High           Low         Close  \\\n",
       "1810  2019-09-01   9630.592773   9796.755859   9582.944336   9757.970703   \n",
       "1811  2019-09-02   9757.473633  10396.591797   9730.650391  10346.760742   \n",
       "1812  2019-09-03  10345.725586  10736.104492  10308.547852  10623.540039   \n",
       "1813  2019-09-04  10621.180664  10762.644531  10434.709961  10594.493164   \n",
       "1814  2019-09-05  10588.183594  10627.269531  10516.417969  10575.533203   \n",
       "...          ...           ...           ...           ...           ...   \n",
       "1988  2020-02-26   9338.290039   9354.778320   8704.426758   8820.522461   \n",
       "1989  2020-02-27   8825.093750   8932.892578   8577.199219   8784.494141   \n",
       "1990  2020-02-28   8788.728516   8890.456055   8492.932617   8672.455078   \n",
       "1991  2020-02-29   8671.212891   8775.631836   8599.508789   8599.508789   \n",
       "1992  2020-03-03   8867.688477   8897.424805   8776.678711   8847.444336   \n",
       "\n",
       "         Adj Close       Volume  \n",
       "1810   9757.970703  11445355859  \n",
       "1811  10346.760742  17248102293  \n",
       "1812  10623.540039  19384917988  \n",
       "1813  10594.493164  16742664768  \n",
       "1814  10575.533203  14551239507  \n",
       "...            ...          ...  \n",
       "1988   8820.522461  50420050761  \n",
       "1989   8784.494141  45470195695  \n",
       "1990   8672.455078  44605450442  \n",
       "1991   8599.508789  35792392544  \n",
       "1992   8847.444336  42093461504  \n",
       "\n",
       "[183 rows x 7 columns]"
      ]
     },
     "execution_count": 68,
     "metadata": {},
     "output_type": "execute_result"
    }
   ],
   "source": [
    "data_test = data[data['Date'] >= '2019-09-01']\n",
    "#data_test"
   ]
  },
  {
   "cell_type": "code",
   "execution_count": 5,
   "metadata": {},
   "outputs": [],
   "source": [
    "training_data = data_training.drop(['Date', 'Adj Close'], axis = 1)\n",
    "#training_data.head()"
   ]
  },
  {
   "cell_type": "code",
   "execution_count": 6,
   "metadata": {},
   "outputs": [],
   "source": [
    "scaler = MinMaxScaler()\n",
    "training_data = scaler.fit_transform(training_data)\n",
    "#training_data[0]"
   ]
  },
  {
   "cell_type": "code",
   "execution_count": 7,
   "metadata": {},
   "outputs": [
    {
     "data": {
      "text/plain": [
       "((1810, 7), (183, 7))"
      ]
     },
     "execution_count": 7,
     "metadata": {},
     "output_type": "execute_result"
    }
   ],
   "source": [
    "data_training.shape, data_test.shape"
   ]
  },
  {
   "cell_type": "markdown",
   "metadata": {},
   "source": [
    "#### Dividiamo i dati in blocchi da 7 giorni dove vogliamo predire i 7 successivi"
   ]
  },
  {
   "cell_type": "code",
   "execution_count": 8,
   "metadata": {},
   "outputs": [],
   "source": [
    "X_train = []\n",
    "y_train = []"
   ]
  },
  {
   "cell_type": "code",
   "execution_count": 9,
   "metadata": {},
   "outputs": [],
   "source": [
    "for i in range(7, training_data.shape[0]-7):\n",
    "    X_train.append(training_data[i-7:i])\n",
    "    y_train.append(training_data[i:i+7,0])"
   ]
  },
  {
   "cell_type": "code",
   "execution_count": 10,
   "metadata": {},
   "outputs": [],
   "source": [
    "X_train, y_train = np.array(X_train), np.array(y_train)"
   ]
  },
  {
   "cell_type": "code",
   "execution_count": 11,
   "metadata": {},
   "outputs": [
    {
     "data": {
      "text/plain": [
       "((1796, 7, 5), (1796, 7))"
      ]
     },
     "execution_count": 11,
     "metadata": {},
     "output_type": "execute_result"
    }
   ],
   "source": [
    "X_train.shape, y_train.shape"
   ]
  },
  {
   "cell_type": "markdown",
   "metadata": {},
   "source": [
    "#### Building LSTM"
   ]
  },
  {
   "cell_type": "code",
   "execution_count": 12,
   "metadata": {},
   "outputs": [],
   "source": [
    "from tensorflow.keras import Sequential\n",
    "from tensorflow.keras.layers import Dense, LSTM, Dropout"
   ]
  },
  {
   "cell_type": "code",
   "execution_count": 13,
   "metadata": {},
   "outputs": [
    {
     "data": {
      "text/plain": [
       "(1796, 7, 5)"
      ]
     },
     "execution_count": 13,
     "metadata": {},
     "output_type": "execute_result"
    }
   ],
   "source": [
    "X_train.shape"
   ]
  },
  {
   "cell_type": "code",
   "execution_count": 14,
   "metadata": {},
   "outputs": [],
   "source": [
    "regressor = Sequential()\n",
    "\n",
    "regressor.add(LSTM(units=60, activation='relu', return_sequences = True, input_shape=(X_train.shape[1], 5)))\n",
    "regressor.add(Dropout(0.2))\n",
    "\n",
    "regressor.add(LSTM(units=60, activation='relu', return_sequences = True))\n",
    "regressor.add(Dropout(0.2))\n",
    "\n",
    "regressor.add(LSTM(units=80, activation='relu', return_sequences = True))\n",
    "regressor.add(Dropout(0.2))\n",
    "\n",
    "regressor.add(LSTM(units=120, activation='relu'))\n",
    "regressor.add(Dropout(0.2))\n",
    "\n",
    "regressor.add(Dense(7)) # giorni da predire"
   ]
  },
  {
   "cell_type": "code",
   "execution_count": 15,
   "metadata": {},
   "outputs": [
    {
     "name": "stdout",
     "output_type": "stream",
     "text": [
      "Model: \"sequential\"\n",
      "_________________________________________________________________\n",
      "Layer (type)                 Output Shape              Param #   \n",
      "=================================================================\n",
      "lstm (LSTM)                  (None, 7, 60)             15840     \n",
      "_________________________________________________________________\n",
      "dropout (Dropout)            (None, 7, 60)             0         \n",
      "_________________________________________________________________\n",
      "lstm_1 (LSTM)                (None, 7, 60)             29040     \n",
      "_________________________________________________________________\n",
      "dropout_1 (Dropout)          (None, 7, 60)             0         \n",
      "_________________________________________________________________\n",
      "lstm_2 (LSTM)                (None, 7, 80)             45120     \n",
      "_________________________________________________________________\n",
      "dropout_2 (Dropout)          (None, 7, 80)             0         \n",
      "_________________________________________________________________\n",
      "lstm_3 (LSTM)                (None, 120)               96480     \n",
      "_________________________________________________________________\n",
      "dropout_3 (Dropout)          (None, 120)               0         \n",
      "_________________________________________________________________\n",
      "dense (Dense)                (None, 7)                 847       \n",
      "=================================================================\n",
      "Total params: 187,327\n",
      "Trainable params: 187,327\n",
      "Non-trainable params: 0\n",
      "_________________________________________________________________\n"
     ]
    }
   ],
   "source": [
    "regressor.summary()"
   ]
  },
  {
   "cell_type": "code",
   "execution_count": 16,
   "metadata": {},
   "outputs": [],
   "source": [
    "regressor.compile(optimizer='adam', loss='mean_squared_error') # uso questa loss perchè stiamo facendo regressione"
   ]
  },
  {
   "cell_type": "code",
   "execution_count": 17,
   "metadata": {},
   "outputs": [
    {
     "name": "stdout",
     "output_type": "stream",
     "text": [
      "Train on 1796 samples\n",
      "Epoch 1/10\n",
      "1796/1796 [==============================] - 4s 2ms/sample - loss: 0.0272\n",
      "Epoch 2/10\n",
      "1796/1796 [==============================] - 1s 571us/sample - loss: 0.0055\n",
      "Epoch 3/10\n",
      "1796/1796 [==============================] - 1s 571us/sample - loss: 0.0032\n",
      "Epoch 4/10\n",
      "1796/1796 [==============================] - 1s 566us/sample - loss: 0.0031\n",
      "Epoch 5/10\n",
      "1796/1796 [==============================] - 1s 571us/sample - loss: 0.0029\n",
      "Epoch 6/10\n",
      "1796/1796 [==============================] - 1s 581us/sample - loss: 0.0027\n",
      "Epoch 7/10\n",
      "1796/1796 [==============================] - 1s 581us/sample - loss: 0.0024\n",
      "Epoch 8/10\n",
      "1796/1796 [==============================] - 1s 590us/sample - loss: 0.0025\n",
      "Epoch 9/10\n",
      "1796/1796 [==============================] - 1s 590us/sample - loss: 0.0022\n",
      "Epoch 10/10\n",
      "1796/1796 [==============================] - 1s 698us/sample - loss: 0.0023\n"
     ]
    },
    {
     "data": {
      "text/plain": [
       "<tensorflow.python.keras.callbacks.History at 0x1a338c76a0>"
      ]
     },
     "execution_count": 17,
     "metadata": {},
     "output_type": "execute_result"
    }
   ],
   "source": [
    "regressor.fit(X_train, y_train, epochs=10, batch_size=32, verbose=1)"
   ]
  },
  {
   "cell_type": "markdown",
   "metadata": {},
   "source": [
    "#### Prepare test dataset"
   ]
  },
  {
   "cell_type": "code",
   "execution_count": 18,
   "metadata": {},
   "outputs": [],
   "source": [
    "past_60_days = data_training.tail(60)"
   ]
  },
  {
   "cell_type": "code",
   "execution_count": 19,
   "metadata": {},
   "outputs": [
    {
     "data": {
      "text/html": [
       "<div>\n",
       "<style scoped>\n",
       "    .dataframe tbody tr th:only-of-type {\n",
       "        vertical-align: middle;\n",
       "    }\n",
       "\n",
       "    .dataframe tbody tr th {\n",
       "        vertical-align: top;\n",
       "    }\n",
       "\n",
       "    .dataframe thead th {\n",
       "        text-align: right;\n",
       "    }\n",
       "</style>\n",
       "<table border=\"1\" class=\"dataframe\">\n",
       "  <thead>\n",
       "    <tr style=\"text-align: right;\">\n",
       "      <th></th>\n",
       "      <th>Open</th>\n",
       "      <th>High</th>\n",
       "      <th>Low</th>\n",
       "      <th>Close</th>\n",
       "      <th>Volume</th>\n",
       "    </tr>\n",
       "  </thead>\n",
       "  <tbody>\n",
       "    <tr>\n",
       "      <th>0</th>\n",
       "      <td>10818.156250</td>\n",
       "      <td>11968.078125</td>\n",
       "      <td>10818.156250</td>\n",
       "      <td>11961.269531</td>\n",
       "      <td>30796494293</td>\n",
       "    </tr>\n",
       "    <tr>\n",
       "      <th>1</th>\n",
       "      <td>11972.718750</td>\n",
       "      <td>12006.075195</td>\n",
       "      <td>11166.569336</td>\n",
       "      <td>11215.437500</td>\n",
       "      <td>25920294033</td>\n",
       "    </tr>\n",
       "    <tr>\n",
       "      <th>2</th>\n",
       "      <td>11203.102539</td>\n",
       "      <td>11395.661133</td>\n",
       "      <td>10874.964844</td>\n",
       "      <td>10978.459961</td>\n",
       "      <td>23838480210</td>\n",
       "    </tr>\n",
       "    <tr>\n",
       "      <th>3</th>\n",
       "      <td>10982.543945</td>\n",
       "      <td>11620.964844</td>\n",
       "      <td>10982.543945</td>\n",
       "      <td>11208.550781</td>\n",
       "      <td>21092024306</td>\n",
       "    </tr>\n",
       "    <tr>\n",
       "      <th>4</th>\n",
       "      <td>11217.616211</td>\n",
       "      <td>11541.620117</td>\n",
       "      <td>11148.804688</td>\n",
       "      <td>11450.846680</td>\n",
       "      <td>19369044276</td>\n",
       "    </tr>\n",
       "  </tbody>\n",
       "</table>\n",
       "</div>"
      ],
      "text/plain": [
       "           Open          High           Low         Close       Volume\n",
       "0  10818.156250  11968.078125  10818.156250  11961.269531  30796494293\n",
       "1  11972.718750  12006.075195  11166.569336  11215.437500  25920294033\n",
       "2  11203.102539  11395.661133  10874.964844  10978.459961  23838480210\n",
       "3  10982.543945  11620.964844  10982.543945  11208.550781  21092024306\n",
       "4  11217.616211  11541.620117  11148.804688  11450.846680  19369044276"
      ]
     },
     "execution_count": 19,
     "metadata": {},
     "output_type": "execute_result"
    }
   ],
   "source": [
    "df = past_60_days.append(data_test, ignore_index= True)\n",
    "df = df.drop(['Date', 'Adj Close'], axis = 1)\n",
    "df.head()"
   ]
  },
  {
   "cell_type": "code",
   "execution_count": 20,
   "metadata": {
    "scrolled": true
   },
   "outputs": [
    {
     "data": {
      "text/plain": [
       "array([[0.5513919 , 0.5914468 , 0.56623298, 0.60991693, 0.6827207 ],\n",
       "       [0.61121719, 0.59335838, 0.58476303, 0.57131138, 0.57460053],\n",
       "       [0.57133844, 0.56264923, 0.56925429, 0.55904502, 0.52844039],\n",
       "       ...,\n",
       "       [0.44623423, 0.43661557, 0.4425679 , 0.43968225, 0.98890721],\n",
       "       [0.44014499, 0.43083891, 0.44823607, 0.43590642, 0.79349494],\n",
       "       [0.45032565, 0.43696615, 0.4576587 , 0.44873999, 0.93320879]])"
      ]
     },
     "execution_count": 20,
     "metadata": {},
     "output_type": "execute_result"
    }
   ],
   "source": [
    "inputs = scaler.transform(df)\n",
    "inputs"
   ]
  },
  {
   "cell_type": "code",
   "execution_count": 55,
   "metadata": {},
   "outputs": [],
   "source": [
    "X_test = []\n",
    "y_test = []"
   ]
  },
  {
   "cell_type": "code",
   "execution_count": 56,
   "metadata": {},
   "outputs": [],
   "source": [
    "for i in range(7, inputs.shape[0]-7):\n",
    "    X_test.append(inputs[i-7:i])\n",
    "    y_test.append(inputs[i:i+7,0])"
   ]
  },
  {
   "cell_type": "code",
   "execution_count": 57,
   "metadata": {},
   "outputs": [],
   "source": [
    "X_test, y_test = np.array(X_test), np.array(y_test)"
   ]
  },
  {
   "cell_type": "code",
   "execution_count": 58,
   "metadata": {},
   "outputs": [
    {
     "data": {
      "text/plain": [
       "((229, 7, 5), (229, 7))"
      ]
     },
     "execution_count": 58,
     "metadata": {},
     "output_type": "execute_result"
    }
   ],
   "source": [
    "X_test.shape, y_test.shape"
   ]
  },
  {
   "cell_type": "code",
   "execution_count": 59,
   "metadata": {},
   "outputs": [],
   "source": [
    "y_pred = regressor.predict(X_test)"
   ]
  },
  {
   "cell_type": "code",
   "execution_count": 60,
   "metadata": {},
   "outputs": [
    {
     "data": {
      "text/plain": [
       "array([5.18164146e-05, 5.03087220e-05, 5.31841635e-05, 5.17617168e-05,\n",
       "       2.21730382e-11])"
      ]
     },
     "execution_count": 60,
     "metadata": {},
     "output_type": "execute_result"
    }
   ],
   "source": [
    "scaler.scale_ # fattori di scaling di ogni colonna, così possiamo tornare ai valori originali"
   ]
  },
  {
   "cell_type": "code",
   "execution_count": 61,
   "metadata": {},
   "outputs": [],
   "source": [
    "scale = 1 / 5.18164146e-05"
   ]
  },
  {
   "cell_type": "code",
   "execution_count": 63,
   "metadata": {},
   "outputs": [],
   "source": [
    "y_pred = y_pred * scale\n",
    "y_test = y_test * scale"
   ]
  },
  {
   "cell_type": "code",
   "execution_count": 69,
   "metadata": {},
   "outputs": [
    {
     "data": {
      "text/plain": [
       "1603"
      ]
     },
     "execution_count": 69,
     "metadata": {},
     "output_type": "execute_result"
    }
   ],
   "source": [
    "len(y_test.flatten())"
   ]
  },
  {
   "cell_type": "markdown",
   "metadata": {},
   "source": [
    "#### Visualization data"
   ]
  },
  {
   "cell_type": "code",
   "execution_count": 66,
   "metadata": {},
   "outputs": [
    {
     "data": {
      "image/png": "[encoded data removed]",
      "text/plain": [
       "<Figure size 1008x360 with 1 Axes>"
      ]
     },
     "metadata": {
      "needs_background": "light"
     },
     "output_type": "display_data"
    }
   ],
   "source": [
    "# Visualising the results\n",
    "plt.figure(figsize=(14,5))\n",
    "plt.plot(y_test.flatten(), color = 'red', label = 'Real Bitcoin Stock Price')\n",
    "#plt.plot(y_pred.flatten(), color = 'blue', label = 'Predicted Bitcoin Stock Price')\n",
    "plt.title('Bitcoin Stock Price Prediction')\n",
    "plt.xlabel('Time')\n",
    "plt.ylabel('Bitcoin Stock Price')\n",
    "plt.legend()\n",
    "plt.show()"
   ]
  },
  {
   "cell_type": "code",
   "execution_count": null,
   "metadata": {},
   "outputs": [],
   "source": []
  }
 ],
 "metadata": {
  "kernelspec": {
   "display_name": "Python 3",
   "language": "python",
   "name": "python3"
  },
  "language_info": {
   "codemirror_mode": {
    "name": "ipython",
    "version": 3
   },
   "file_extension": ".py",
   "mimetype": "text/x-python",
   "name": "python",
   "nbconvert_exporter": "python",
   "pygments_lexer": "ipython3",
   "version": "3.6.10"
  }
 },
 "nbformat": 4,
 "nbformat_minor": 4
}
